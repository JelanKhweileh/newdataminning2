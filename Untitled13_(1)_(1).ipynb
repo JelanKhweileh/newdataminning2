{
  "nbformat": 4,
  "nbformat_minor": 0,
  "metadata": {
    "colab": {
      "provenance": [],
      "toc_visible": true
    },
    "kernelspec": {
      "name": "python3",
      "display_name": "Python 3"
    },
    "language_info": {
      "name": "python"
    }
  },
  "cells": [
    {
      "cell_type": "code",
      "execution_count": null,
      "metadata": {
        "id": "Yazlmn5dDkmG"
      },
      "outputs": [],
      "source": [
        "import pandas as pd\n",
        "import numpy as np\n",
        "import matplotlib as plt\n",
        "import seaborn as sns\n",
        "from sklearn.linear_model import LogisticRegression\n",
        "from sklearn import metrics"
      ]
    },
    {
      "cell_type": "markdown",
      "source": [
        "# New Section"
      ],
      "metadata": {
        "id": "sUnqpUWpdFI1"
      }
    },
    {
      "cell_type": "markdown",
      "source": [
        "# New Section"
      ],
      "metadata": {
        "id": "a6S8K8d0dIIO"
      }
    },
    {
      "cell_type": "code",
      "source": [
        "train = pd.read_csv('train.csv')\n",
        "train=train.drop(\"id\",axis=1)\n",
        "train['bmi'].isna().sum()\n",
        "train['bmi']=train['bmi'].fillna(train['bmi'].mean())\n",
        "train['gender']=train['gender'].replace({\"Female\":\"1\",\"Male\":\"0\",\"Other\":\"1\"}).astype(int)\n",
        "train['work_type']=train['work_type'].replace({\"Private\":\"1\",\"Self-employed\":\"0\",\"children\":\"2\",\n",
        "\"Govt_job\":\"3\",\"Never_worked\":\"4\"}).astype(int)\n",
        "train['gender']=train['gender'].replace({\"Female\":\"1\",\"Male\":\"0\",\"Other\":\"1\"}).astype(int)\n",
        "train['ever_married']=train['ever_married'].replace({\"Yes\":\"1\",\"No\":\"0\"}).astype(int)\n",
        "train['Residence_type']=train['Residence_type'].replace({\"Urban\":\"1\",\"Rural\":\"0\"}).astype(int)\n",
        "train['smoking_status']=train['smoking_status'].replace({\"never smoked\":\"0\",\"Unknown\":\"1\",\"formerly smoked\":\"2\",\n",
        "\"smokes\":\"3\"}).astype(int)\n",
        "x= train.drop('stroke',axis=1)\n",
        "y=train['stroke']"
      ],
      "metadata": {
        "id": "FUiRpbK5D4o9"
      },
      "execution_count": null,
      "outputs": []
    },
    {
      "cell_type": "code",
      "source": [
        "from sklearn.model_selection import train_test_split\n",
        "x_train, x_test, y_train, y_test = train_test_split(x,y,test_size=0.3, random_state=0)"
      ],
      "metadata": {
        "id": "5ClOfNO7EEVI"
      },
      "execution_count": null,
      "outputs": []
    },
    {
      "cell_type": "code",
      "source": [
        "m=LogisticRegression(max_iter=5000)\n",
        "m.fit(x_train, y_train)\n",
        "y_pre=m.predict(x_test)\n",
        "metrics.accuracy_score(y_test,y_pre)"
      ],
      "metadata": {
        "id": "zNFjvnPaEEYD",
        "colab": {
          "base_uri": "https://localhost:8080/"
        },
        "outputId": "f47db599-1f35-4ee9-f5d2-eec2f82ea072"
      },
      "execution_count": null,
      "outputs": [
        {
          "output_type": "execute_result",
          "data": {
            "text/plain": [
              "0.9535452322738386"
            ]
          },
          "metadata": {},
          "execution_count": 4
        }
      ]
    },
    {
      "cell_type": "code",
      "source": [],
      "metadata": {
        "id": "Q4Ym5KUNnMYq"
      },
      "execution_count": null,
      "outputs": []
    },
    {
      "cell_type": "code",
      "source": [
        "test=pd.read_csv('test.csv')\n",
        "id=test['id']\n",
        "test=test.drop(\"id\",axis=1)\n",
        "s=pd.get_dummies(test['gender'])\n",
        "work=pd.get_dummies(test['work_type'])\n",
        "test['bmi']=test['bmi'].fillna(test['bmi'].mean())\n",
        "test['gender']=test['gender'].replace({\"Female\":\"1\",\"Male\":\"0\"}).astype(int)\n",
        "test['work_type']=test['work_type'].replace({\"Private\":\"1\",\"Self-employed\":\"0\",\"children\":\"2\",\n",
        "\"Govt_job\":\"3\",\"Never_worked\":\"4\"}).astype(int)\n",
        "test['gender']=test['gender'].replace({\"Female\":\"1\",\"Male\":\"0\",\"Other\":\"1\"}).astype(int)\n",
        "test['ever_married']=train['ever_married'].replace({\"Yes\":\"1\",\"No\":\"0\"}).astype(int)\n",
        "test['Residence_type']=test['Residence_type'].replace({\"Urban\":\"1\",\"Rural\":\"0\"}).astype(int)\n",
        "test['smoking_status']=test['smoking_status'].replace({\"never smoked\":\"0\",\"Unknown\":\"1\",\"formerly smoked\":\"2\",\n",
        "\"smokes\":\"3\"}).astype(int)"
      ],
      "metadata": {
        "id": "rxDvQH1QEEa5"
      },
      "execution_count": null,
      "outputs": []
    },
    {
      "cell_type": "code",
      "source": [
        "y_pre2=m.predict(test)\n",
        "\n",
        " \n",
        "datatest=pd.DataFrame({'id': id,'stroke':y_pre2})\n",
        "datatest.to_csv('pre.csv',index=False)\n",
        "p=pd.read_csv('pre.csv')"
      ],
      "metadata": {
        "id": "VZiiudlxEVku"
      },
      "execution_count": null,
      "outputs": []
    },
    {
      "cell_type": "code",
      "source": [
        "p"
      ],
      "metadata": {
        "id": "KNfRYDjOEVnX",
        "colab": {
          "base_uri": "https://localhost:8080/",
          "height": 423
        },
        "outputId": "8cb1388a-a40d-42d5-a278-f3e4ea756689"
      },
      "execution_count": null,
      "outputs": [
        {
          "output_type": "execute_result",
          "data": {
            "text/plain": [
              "         id  stroke\n",
              "0     61960       0\n",
              "1     31741       0\n",
              "2     59451       0\n",
              "3     40670       0\n",
              "4     25391       0\n",
              "...     ...     ...\n",
              "1017   2953       0\n",
              "1018  47799       0\n",
              "1019  61013       0\n",
              "1020  66400       0\n",
              "1021   9013       0\n",
              "\n",
              "[1022 rows x 2 columns]"
            ],
            "text/html": [
              "\n",
              "  <div id=\"df-f4bcf4fc-71bd-4911-9e0d-ee11bb12f6cb\">\n",
              "    <div class=\"colab-df-container\">\n",
              "      <div>\n",
              "<style scoped>\n",
              "    .dataframe tbody tr th:only-of-type {\n",
              "        vertical-align: middle;\n",
              "    }\n",
              "\n",
              "    .dataframe tbody tr th {\n",
              "        vertical-align: top;\n",
              "    }\n",
              "\n",
              "    .dataframe thead th {\n",
              "        text-align: right;\n",
              "    }\n",
              "</style>\n",
              "<table border=\"1\" class=\"dataframe\">\n",
              "  <thead>\n",
              "    <tr style=\"text-align: right;\">\n",
              "      <th></th>\n",
              "      <th>id</th>\n",
              "      <th>stroke</th>\n",
              "    </tr>\n",
              "  </thead>\n",
              "  <tbody>\n",
              "    <tr>\n",
              "      <th>0</th>\n",
              "      <td>61960</td>\n",
              "      <td>0</td>\n",
              "    </tr>\n",
              "    <tr>\n",
              "      <th>1</th>\n",
              "      <td>31741</td>\n",
              "      <td>0</td>\n",
              "    </tr>\n",
              "    <tr>\n",
              "      <th>2</th>\n",
              "      <td>59451</td>\n",
              "      <td>0</td>\n",
              "    </tr>\n",
              "    <tr>\n",
              "      <th>3</th>\n",
              "      <td>40670</td>\n",
              "      <td>0</td>\n",
              "    </tr>\n",
              "    <tr>\n",
              "      <th>4</th>\n",
              "      <td>25391</td>\n",
              "      <td>0</td>\n",
              "    </tr>\n",
              "    <tr>\n",
              "      <th>...</th>\n",
              "      <td>...</td>\n",
              "      <td>...</td>\n",
              "    </tr>\n",
              "    <tr>\n",
              "      <th>1017</th>\n",
              "      <td>2953</td>\n",
              "      <td>0</td>\n",
              "    </tr>\n",
              "    <tr>\n",
              "      <th>1018</th>\n",
              "      <td>47799</td>\n",
              "      <td>0</td>\n",
              "    </tr>\n",
              "    <tr>\n",
              "      <th>1019</th>\n",
              "      <td>61013</td>\n",
              "      <td>0</td>\n",
              "    </tr>\n",
              "    <tr>\n",
              "      <th>1020</th>\n",
              "      <td>66400</td>\n",
              "      <td>0</td>\n",
              "    </tr>\n",
              "    <tr>\n",
              "      <th>1021</th>\n",
              "      <td>9013</td>\n",
              "      <td>0</td>\n",
              "    </tr>\n",
              "  </tbody>\n",
              "</table>\n",
              "<p>1022 rows × 2 columns</p>\n",
              "</div>\n",
              "      <button class=\"colab-df-convert\" onclick=\"convertToInteractive('df-f4bcf4fc-71bd-4911-9e0d-ee11bb12f6cb')\"\n",
              "              title=\"Convert this dataframe to an interactive table.\"\n",
              "              style=\"display:none;\">\n",
              "        \n",
              "  <svg xmlns=\"http://www.w3.org/2000/svg\" height=\"24px\"viewBox=\"0 0 24 24\"\n",
              "       width=\"24px\">\n",
              "    <path d=\"M0 0h24v24H0V0z\" fill=\"none\"/>\n",
              "    <path d=\"M18.56 5.44l.94 2.06.94-2.06 2.06-.94-2.06-.94-.94-2.06-.94 2.06-2.06.94zm-11 1L8.5 8.5l.94-2.06 2.06-.94-2.06-.94L8.5 2.5l-.94 2.06-2.06.94zm10 10l.94 2.06.94-2.06 2.06-.94-2.06-.94-.94-2.06-.94 2.06-2.06.94z\"/><path d=\"M17.41 7.96l-1.37-1.37c-.4-.4-.92-.59-1.43-.59-.52 0-1.04.2-1.43.59L10.3 9.45l-7.72 7.72c-.78.78-.78 2.05 0 2.83L4 21.41c.39.39.9.59 1.41.59.51 0 1.02-.2 1.41-.59l7.78-7.78 2.81-2.81c.8-.78.8-2.07 0-2.86zM5.41 20L4 18.59l7.72-7.72 1.47 1.35L5.41 20z\"/>\n",
              "  </svg>\n",
              "      </button>\n",
              "      \n",
              "  <style>\n",
              "    .colab-df-container {\n",
              "      display:flex;\n",
              "      flex-wrap:wrap;\n",
              "      gap: 12px;\n",
              "    }\n",
              "\n",
              "    .colab-df-convert {\n",
              "      background-color: #E8F0FE;\n",
              "      border: none;\n",
              "      border-radius: 50%;\n",
              "      cursor: pointer;\n",
              "      display: none;\n",
              "      fill: #1967D2;\n",
              "      height: 32px;\n",
              "      padding: 0 0 0 0;\n",
              "      width: 32px;\n",
              "    }\n",
              "\n",
              "    .colab-df-convert:hover {\n",
              "      background-color: #E2EBFA;\n",
              "      box-shadow: 0px 1px 2px rgba(60, 64, 67, 0.3), 0px 1px 3px 1px rgba(60, 64, 67, 0.15);\n",
              "      fill: #174EA6;\n",
              "    }\n",
              "\n",
              "    [theme=dark] .colab-df-convert {\n",
              "      background-color: #3B4455;\n",
              "      fill: #D2E3FC;\n",
              "    }\n",
              "\n",
              "    [theme=dark] .colab-df-convert:hover {\n",
              "      background-color: #434B5C;\n",
              "      box-shadow: 0px 1px 3px 1px rgba(0, 0, 0, 0.15);\n",
              "      filter: drop-shadow(0px 1px 2px rgba(0, 0, 0, 0.3));\n",
              "      fill: #FFFFFF;\n",
              "    }\n",
              "  </style>\n",
              "\n",
              "      <script>\n",
              "        const buttonEl =\n",
              "          document.querySelector('#df-f4bcf4fc-71bd-4911-9e0d-ee11bb12f6cb button.colab-df-convert');\n",
              "        buttonEl.style.display =\n",
              "          google.colab.kernel.accessAllowed ? 'block' : 'none';\n",
              "\n",
              "        async function convertToInteractive(key) {\n",
              "          const element = document.querySelector('#df-f4bcf4fc-71bd-4911-9e0d-ee11bb12f6cb');\n",
              "          const dataTable =\n",
              "            await google.colab.kernel.invokeFunction('convertToInteractive',\n",
              "                                                     [key], {});\n",
              "          if (!dataTable) return;\n",
              "\n",
              "          const docLinkHtml = 'Like what you see? Visit the ' +\n",
              "            '<a target=\"_blank\" href=https://colab.research.google.com/notebooks/data_table.ipynb>data table notebook</a>'\n",
              "            + ' to learn more about interactive tables.';\n",
              "          element.innerHTML = '';\n",
              "          dataTable['output_type'] = 'display_data';\n",
              "          await google.colab.output.renderOutput(dataTable, element);\n",
              "          const docLink = document.createElement('div');\n",
              "          docLink.innerHTML = docLinkHtml;\n",
              "          element.appendChild(docLink);\n",
              "        }\n",
              "      </script>\n",
              "    </div>\n",
              "  </div>\n",
              "  "
            ]
          },
          "metadata": {},
          "execution_count": 9
        }
      ]
    }
  ]
}